{
 "cells": [
  {
   "cell_type": "markdown",
   "metadata": {},
   "source": [
    "<center>\n",
    "    <h1>Analysis of the ICFHR 2020 Competition on Image Retrieval for Historical Handwritten Fragments (HisFrag20) Dataset</h1>\n",
    "    <hr>\n",
    "    <br>\n",
    "    <div style=\"margin:0 60px 0px 0\">\n",
    "        <img src=\"./../../readme-head.png\" align=center width=500>\n",
    "    </div>\n",
    "    <h2>Data Understanding for solving a Jigsaw Puzzle of Historical Fragments</h2>\n",
    "    <h3> by Timo Bohnstedt</h3>\n",
    "    <br>\n",
    "</center>\n"
   ]
  },
  {
   "cell_type": "markdown",
   "metadata": {},
   "source": [
    "<a name='0'></a>\n",
    "\n",
    "### Outline for this Notebook `(clickable)`\n",
    "\n",
    "1. [Data Distribution](#1) <br>\n",
    "1.1. [Are the IDs meaningful? If not, where can I get more meaningful data?](#1.1) <br>\n",
    "1.2. [How many writers are there?](#1.2) <br>\n",
    "1.3. [How many pages do the autohers have?](#1.3) <br>\n",
    "1.4. [How many fragments are there per page?](#1.3) <br>\n",
    "2. [Image Analysis](#2) <br>\n",
    "2.1. [How large are the images?](#1.2) <br>\n",
    "2.2. [What does the work of an auther look like?](#1.3.)<br>\n",
    "2.3. [What does a page of a particular author look like?](#1.3.)<br>\n",
    "2.4. [What does it look like when an image is gradually assembled (GIF)?](#1.3.)<br>\n",
    "2.5. [Optional: Is there any further information, e.g. where the pictures come from?](#1.3.)<br>"
   ]
  },
  {
   "cell_type": "markdown",
   "metadata": {},
   "source": [
    "## 0. Preparation of the Notebook"
   ]
  },
  {
   "cell_type": "code",
   "execution_count": 74,
   "metadata": {},
   "outputs": [],
   "source": [
    "# import packages\n",
    "from os import listdir\n",
    "from os.path import isfile, join, splitext\n",
    "import pandas as pd\n",
    "import matplotlib.pyplot as plt\n",
    "#import numpy as np"
   ]
  },
  {
   "cell_type": "code",
   "execution_count": 75,
   "metadata": {},
   "outputs": [],
   "source": [
    "# declare global variables \n",
    "data_path = \"/Users/beantown/Projekte/Jigsaw-Puzzling/Data/hisfrag20\"\n",
    "data_path_test = \"/Users/beantown/Projekte/Jigsaw-Puzzling/Data/hisfrag20_test\""
   ]
  },
  {
   "cell_type": "code",
   "execution_count": 77,
   "metadata": {},
   "outputs": [],
   "source": [
    "# prepare environtment\n",
    "%matplotlib inline"
   ]
  },
  {
   "cell_type": "code",
   "execution_count": 61,
   "metadata": {
    "colab": {},
    "colab_type": "code",
    "id": "YfIk2es3hJEd"
   },
   "outputs": [],
   "source": [
    "# load file names train dataset\n",
    "file_names = [splitext(f)[0] for f in listdir(data_path) if isfile(join(data_path, f))]\n",
    "\n",
    "# load file name test dataset\n",
    "file_names_test = [splitext(f)[0] for f in listdir(data_path_test) if isfile(join(data_path_test, f))]"
   ]
  },
  {
   "cell_type": "markdown",
   "metadata": {},
   "source": [
    "<a name='1'></a>\n",
    "\n",
    "## 1. Data Distribution\n",
    "\n",
    "<a name='1.1'></a>\n",
    "\n",
    "### 1.1. Are the IDs meaningful? If not, where can I get more meaningful data?\n",
    "\n",
    "\n",
    "The dataset contains a training and a test set with the following image naming-convention: \n",
    "\n",
    "```ruby\n",
    "WID_PID_FID.jpg \n",
    "\n",
    "where \n",
    "WID = writer id\n",
    "PID = page id, \n",
    "FID = fragment id.\n",
    "\n",
    "```\n",
    "\n",
    "The **train set** contains arround **100,000 fragments** using the Historical-IR19 as base dataset, they should all contain some text even some fragments are quite small. The **test set** contains about **20,000** new fragments\n",
    "\n",
    "First, I will print the filename (label) to see wheather or not the label tells something meaninful"
   ]
  },
  {
   "cell_type": "code",
   "execution_count": 62,
   "metadata": {},
   "outputs": [
    {
     "name": "stdout",
     "output_type": "stream",
     "text": [
      "9121_4046_13\n",
      "219_77800500_10553\n"
     ]
    }
   ],
   "source": [
    "# For training\n",
    "print(file_names[0])\n",
    "\n",
    "# For test\n",
    "print(file_names_test[0])"
   ]
  },
  {
   "cell_type": "markdown",
   "metadata": {},
   "source": [
    "As can be seen the IDs are just IDs. Some reasrch has shown that is up to now not possible to get more information about the writer. But we can cange an save the name such that it is more meaninfull in terms of the nameing convention."
   ]
  },
  {
   "cell_type": "markdown",
   "metadata": {},
   "source": [
    "<a name='1.1'></a>\n",
    "### 1.2. How many writers are there?"
   ]
  },
  {
   "cell_type": "code",
   "execution_count": 63,
   "metadata": {},
   "outputs": [],
   "source": [
    "# Split the image naming in wirter, page and fragment\n",
    "# For training\n",
    "file_names_parts = [i.split(\"_\") for i in file_names]\n",
    "# For test\n",
    "file_names_test_parts = [i.split(\"_\") for i in file_names_test]"
   ]
  },
  {
   "cell_type": "code",
   "execution_count": 89,
   "metadata": {},
   "outputs": [
    {
     "data": {
      "text/plain": [
       "['9121', '4046', '13']"
      ]
     },
     "execution_count": 89,
     "metadata": {},
     "output_type": "execute_result"
    }
   ],
   "source": [
    "file_names_parts[0]"
   ]
  },
  {
   "cell_type": "code",
   "execution_count": 90,
   "metadata": {},
   "outputs": [
    {
     "name": "stdout",
     "output_type": "stream",
     "text": [
      "Within the train dataset there are 8717 unique writers\n"
     ]
    }
   ],
   "source": [
    "# For training\n",
    "df = pd.DataFrame.from_records(file_names_parts,columns=['writer_id', 'page_id','fragment_id'],dtype=)\n",
    "print('Within the train dataset there are {} unique writers'.format(df.nunique()[0])) "
   ]
  },
  {
   "cell_type": "code",
   "execution_count": 91,
   "metadata": {},
   "outputs": [
    {
     "name": "stdout",
     "output_type": "stream",
     "text": [
      "Within the test dataset there are 1152 unique writers\n"
     ]
    }
   ],
   "source": [
    "# For test\n",
    "df_test = pd.DataFrame.from_records(file_names_test_parts,columns=['writer_id', 'page_id','fragment_id'])\n",
    "print('Within the test dataset there are {} unique writers'.format(df_test.nunique()[0]))"
   ]
  },
  {
   "cell_type": "code",
   "execution_count": 108,
   "metadata": {},
   "outputs": [
    {
     "data": {
      "text/plain": [
       "<matplotlib.axes._subplots.AxesSubplot at 0x7f8883b4e110>"
      ]
     },
     "execution_count": 108,
     "metadata": {},
     "output_type": "execute_result"
    },
    {
     "data": {
      "image/png": "[encoded data removed]",
      "text/plain": [
       "<Figure size 432x288 with 1 Axes>"
      ]
     },
     "metadata": {
      "needs_background": "light"
     },
     "output_type": "display_data"
    }
   ],
   "source": [
    "# Visualize how often each writer appers\n",
    "# For training\n",
    "df.groupby(['writer_id'])['page_id'].count().plot()"
   ]
  },
  {
   "cell_type": "code",
   "execution_count": 120,
   "metadata": {},
   "outputs": [
    {
     "data": {
      "text/plain": [
       "<matplotlib.axes._subplots.AxesSubplot at 0x7f886434b2d0>"
      ]
     },
     "execution_count": 120,
     "metadata": {},
     "output_type": "execute_result"
    },
    {
     "data": {
      "image/png": "[encoded data removed]",
      "text/plain": [
       "<Figure size 432x288 with 1 Axes>"
      ]
     },
     "metadata": {
      "needs_background": "light"
     },
     "output_type": "display_data"
    }
   ],
   "source": [
    "# For test\n",
    "df_test.groupby(['writer_id'])['page_id'].count().plot()"
   ]
  },
  {
   "cell_type": "markdown",
   "metadata": {},
   "source": [
    "It seems that not every writer has the same ammount of fragments or pages"
   ]
  },
  {
   "cell_type": "markdown",
   "metadata": {},
   "source": [
    "<a name='1.2'></a>\n",
    "### 1.2. How many pages do the writers have?"
   ]
  },
  {
   "cell_type": "code",
   "execution_count": 121,
   "metadata": {},
   "outputs": [
    {
     "data": {
      "text/plain": [
       "writer_id\n",
       "1000      2\n",
       "10000    11\n",
       "10001    41\n",
       "10002     9\n",
       "10003    60\n",
       "         ..\n",
       "9995     13\n",
       "9996     15\n",
       "9997     82\n",
       "9998     11\n",
       "9999     10\n",
       "Name: page_id, Length: 8717, dtype: int64"
      ]
     },
     "execution_count": 121,
     "metadata": {},
     "output_type": "execute_result"
    }
   ],
   "source": [
    "# For training\n",
    "pages_per_writer = df.groupby(['writer_id'])['page_id'].count()\n",
    "pages_per_writer"
   ]
  },
  {
   "cell_type": "code",
   "execution_count": 119,
   "metadata": {},
   "outputs": [
    {
     "data": {
      "text/plain": [
       "11.667660892508891"
      ]
     },
     "execution_count": 119,
     "metadata": {},
     "output_type": "execute_result"
    }
   ],
   "source": [
    "pages_per_writer.mean()"
   ]
  },
  {
   "cell_type": "markdown",
   "metadata": {},
   "source": [
    "It seems that that the amount of pages is not even at all. We should use this knowledge within the preproceccing"
   ]
  },
  {
   "cell_type": "markdown",
   "metadata": {},
   "source": [
    "<a name='1.3'></a>\n",
    "### 1.3. How many fragments are there per page?"
   ]
  },
  {
   "cell_type": "code",
   "execution_count": 122,
   "metadata": {},
   "outputs": [
    {
     "data": {
      "text/plain": [
       "<matplotlib.axes._subplots.AxesSubplot at 0x7f88752b6090>"
      ]
     },
     "execution_count": 122,
     "metadata": {},
     "output_type": "execute_result"
    },
    {
     "data": {
      "image/png": "[encoded data removed]",
      "text/plain": [
       "<Figure size 432x288 with 1 Axes>"
      ]
     },
     "metadata": {
      "needs_background": "light"
     },
     "output_type": "display_data"
    }
   ],
   "source": [
    "df.groupby(['page_id'])['fragment_id'].count().plot()"
   ]
  },
  {
   "cell_type": "code",
   "execution_count": 130,
   "metadata": {},
   "outputs": [
    {
     "data": {
      "text/plain": [
       "6.0"
      ]
     },
     "execution_count": 130,
     "metadata": {},
     "output_type": "execute_result"
    }
   ],
   "source": [
    "round(df.groupby(['page_id'])['fragment_id'].count().mean(),0)"
   ]
  },
  {
   "cell_type": "markdown",
   "metadata": {},
   "source": [
    "<a name='2'></a>\n",
    "\n",
    "## 2. Image Analysis\n",
    "\n",
    "<a name='2.1'></a>\n",
    "### 2.1. How large are the images?\n"
   ]
  },
  {
   "cell_type": "markdown",
   "metadata": {},
   "source": [
    "<a name='2.2'></a>\n",
    "### 2.2. What does the work of an auther look like?\n"
   ]
  },
  {
   "cell_type": "markdown",
   "metadata": {},
   "source": [
    "<a name='2.3'></a>\n",
    "### 2.3. What does a page of a particular author look like?\n"
   ]
  },
  {
   "cell_type": "markdown",
   "metadata": {},
   "source": [
    "<a name='2.4'></a>\n",
    "### 2.4. What does it look like when an image is gradually assembled (GIF)?\n"
   ]
  },
  {
   "cell_type": "markdown",
   "metadata": {},
   "source": [
    "\n",
    "<a name='2.5'></a>\n",
    "### 2.5. Optional: Is there any further information, e.g. where the pictures come from?"
   ]
  },
  {
   "cell_type": "code",
   "execution_count": null,
   "metadata": {},
   "outputs": [],
   "source": []
  }
 ],
 "metadata": {
  "accelerator": "GPU",
  "colab": {
   "collapsed_sections": [],
   "name": "dcgan.ipynb",
   "private_outputs": true,
   "provenance": [],
   "toc_visible": true
  },
  "kernelspec": {
   "display_name": "Python 3",
   "language": "python",
   "name": "python3"
  },
  "language_info": {
   "codemirror_mode": {
    "name": "ipython",
    "version": 3
   },
   "file_extension": ".py",
   "mimetype": "text/x-python",
   "name": "python",
   "nbconvert_exporter": "python",
   "pygments_lexer": "ipython3",
   "version": "3.7.6"
  }
 },
 "nbformat": 4,
 "nbformat_minor": 4
}
